{
 "cells": [
  {
   "cell_type": "code",
   "execution_count": null,
   "metadata": {},
   "outputs": [],
   "source": [
    "import os, pandas as pd, numpy as np, json, matplotlib.pyplot as plt\n",
    "from natsort import natsorted\n",
    "from tqdm import tqdm \n",
    "os.chdir(\"./src/lib/hand_predictor\")\n",
    "from utils.hand.api import ffmpeg4format, mp_kpts_generator, mp_kpts_preprocessing, hand_pos_inference, model_pred_severity\n",
    "from utils.hand.api import hand_rotation, hand_parameters\n",
    "from utils.third_party.measurement import measurements\n",
    "from utils.hand.keypoints import stft_plot, mergePlot_PeakInteRaw\n",
    "import seaborn as sns"
   ]
  },
  {
   "attachments": {},
   "cell_type": "markdown",
   "metadata": {},
   "source": [
    "# Preprocessing - workflow"
   ]
  },
  {
   "attachments": {},
   "cell_type": "markdown",
   "metadata": {},
   "source": [
    "## 1. Video -> MP4 "
   ]
  },
  {
   "cell_type": "code",
   "execution_count": null,
   "metadata": {},
   "outputs": [],
   "source": [
    "# input\n",
    "root_path = '/home/yuy/Project/Gait_proj/fast_eval_Parkinsons/Data/PDMotorDB/righthand_videos'\n",
    "# root_path = '/home/yuy/Project/Gait_proj/fast_eval_Parkinsons/Data/PDMotorDB/lefthand_videos'\n",
    "filename_list = [ each for each in natsorted(os.listdir(root_path)) if '.avi' in each]\n",
    "\n",
    "# output\n",
    "temp_path = '/home/yuy/Project/Gait_proj/fast_eval_Parkinsons/Data/PDMotorDB/righthand_videos_mp4'\n",
    "# temp_path = '/home/yuy/Project/Gait_proj/fast_eval_Parkinsons/Data/PDMotorDB/lefthand_videos_mp4'\n",
    "\n",
    "for filename in tqdm(filename_list):\n",
    "    filename_ = filename.split('.')[0]\n",
    "    try:\n",
    "        video_path = f'{root_path}/{filename}'\n",
    "        output_path = f'{temp_path}/{filename_}.mp4'\n",
    "        ffmpeg4format(video_path=video_path, output_path=output_path)\n",
    "    except:\n",
    "        print(filename)\n",
    "#collect_hand_keypoints_pipe()"
   ]
  },
  {
   "attachments": {},
   "cell_type": "markdown",
   "metadata": {},
   "source": [
    "## 2. MP4 -> mediapipe kpts"
   ]
  },
  {
   "cell_type": "code",
   "execution_count": null,
   "metadata": {},
   "outputs": [],
   "source": [
    "pos_LR = 'Right'\n",
    "# input\n",
    "root_path = f'/home/yuy/Project/Gait_proj/fast_eval_Parkinsons/Data/PDMotorDB/{pos_LR.lower()}hand_videos_mp4'\n",
    "filename_list = [ each for each in natsorted(os.listdir(root_path)) if '.mp4' in each]\n",
    "\n",
    "# output\n",
    "output_root_path = f'/home/yuy/Project/Gait_proj/fast_eval_Parkinsons/Data/PDMotorDB/{pos_LR.lower()}hand_mp_kpts'\n",
    "os.makedirs(output_root_path, exist_ok=True)\n",
    "\n",
    "for filename in tqdm(filename_list):\n",
    "    video_path = f'{root_path}/{filename}'\n",
    "    mp_kpts_generator(video_path=video_path, output_root_path=output_root_path, hand_query=pos_LR, logging=False)\n"
   ]
  },
  {
   "attachments": {},
   "cell_type": "markdown",
   "metadata": {},
   "source": [
    "## 3. Mediapipe kpts preprocessing (error frame ratio, supp with previous frame, normalize)"
   ]
  },
  {
   "cell_type": "code",
   "execution_count": null,
   "metadata": {},
   "outputs": [],
   "source": [
    "pos_LR = 'Right'\n",
    "\n",
    "# input\n",
    "root_path = f'/home/yuy/Project/Gait_proj/fast_eval_Parkinsons/Data/PDMotorDB/{pos_LR.lower()}hand_mp_kpts'\n",
    "filename_list = [ each for each in natsorted(os.listdir(root_path)) if '.csv' in each ]\n",
    "\n",
    "# output\n",
    "output_root_path = f'/home/yuy/Project/Gait_proj/fast_eval_Parkinsons/Data/PDMotorDB/{pos_LR.lower()}hand_mp_kpts_preprocessed'\n",
    "os.makedirs(output_root_path, exist_ok=True)\n",
    "\n",
    "df_list = []\n",
    "for filename in tqdm(filename_list):\n",
    "    csv_input_path = f'{root_path}/{filename}'\n",
    "    csv_output_path = f'{output_root_path}/{filename}'\n",
    "    error_frame_ratio = mp_kpts_preprocessing(csv_input_path, csv_output_path, logging=False)\n",
    "    \n",
    "    df_list.append([filename, error_frame_ratio])\n",
    "\n",
    "df = pd.DataFrame(df_list, columns=['filename', 'error_frame_ratio'])\n",
    "df.to_csv(f\"{output_root_path}/../{pos_LR.lower()}hand_filename_ErrorFrameRatio.csv\", index=None)\n"
   ]
  },
  {
   "attachments": {},
   "cell_type": "markdown",
   "metadata": {},
   "source": [
    "## 4. Merge train-val dataset (label create)"
   ]
  },
  {
   "cell_type": "code",
   "execution_count": null,
   "metadata": {},
   "outputs": [],
   "source": [
    "hand_LR = 'right' # 'left', 'right'\n",
    "datasets = ['train', 'val']\n",
    "\n",
    "df_list = []\n",
    "for dataset in datasets:\n",
    "    read_txt = f'/home/yuy/Project/Gait_proj/fast_eval_Parkinsons/Data/PDMotorDB/{hand_LR}hand_{dataset}.txt'\n",
    "    df = pd.read_table(read_txt, sep=' ', header=None, dtype=str)\n",
    "    df.columns = ['filename', 'label']\n",
    "    df_list.append(df)\n",
    "\n",
    "df = pd.concat(df_list, axis=0)\n",
    "df.reset_index(inplace=True, drop=True)\n",
    "df.to_csv(f\"/home/yuy/Project/Gait_proj/fast_eval_Parkinsons/Data/PDMotorDB/{hand_LR}hand_merge.csv\", index=None)"
   ]
  },
  {
   "attachments": {},
   "cell_type": "markdown",
   "metadata": {},
   "source": [
    "## 5. Merge csvname, labels, error frame ratio inforamtion"
   ]
  },
  {
   "cell_type": "code",
   "execution_count": null,
   "metadata": {},
   "outputs": [],
   "source": [
    "hand_LR = 'left' # 'left', 'right'\n",
    "csv_path = f'/home/yuy/Project/Gait_proj/fast_eval_Parkinsons/Data/PDMotorDB/{hand_LR}hand_merge.csv'\n",
    "csvEFR_path = f'/home/yuy/Project/Gait_proj/fast_eval_Parkinsons/Data/PDMotorDB/{hand_LR}hand_filename_ErrorFrameRatio.csv'\n",
    "\n",
    "df_csv = pd.read_csv(csv_path)\n",
    "df_csvEFR = pd.read_csv(csvEFR_path)\n",
    "\n",
    "df = pd.concat([df_csvEFR, df_csv], axis=1)\n",
    "df.columns = range(len(df.columns))\n",
    "df = df[[0,3,1]]\n",
    "df.columns = range(len(df.columns))\n",
    "df.to_csv(f'/home/yuy/Project/Gait_proj/fast_eval_Parkinsons/Data/PDMotorDB/{hand_LR}hand_clean.csv',header=None, index=None)"
   ]
  },
  {
   "attachments": {},
   "cell_type": "markdown",
   "metadata": {},
   "source": [
    "## 6. Relabel with dataset"
   ]
  },
  {
   "cell_type": "code",
   "execution_count": null,
   "metadata": {},
   "outputs": [],
   "source": [
    "hand_LR = 'left' # 'left', 'right'\n",
    "severity_boundary = 5\n",
    "csv_path = f'/home/yuy/Project/Gait_proj/fast_eval_Parkinsons/Data/PDMotorDB/{hand_LR}hand_clean.csv'\n",
    "df = pd.read_csv(csv_path, header=None)\n",
    "df[1] = [1 if each >= severity_boundary else 0 for each in df[1].values] ## modify here\n",
    "df.to_csv(f'/home/yuy/Project/Gait_proj/fast_eval_Parkinsons/Data/PDMotorDB/{hand_LR}hand_clean_{severity_boundary}.csv', index=None, header=None)"
   ]
  },
  {
   "attachments": {},
   "cell_type": "markdown",
   "metadata": {},
   "source": [
    "## 7. Rotation the hand (optional)"
   ]
  },
  {
   "cell_type": "code",
   "execution_count": null,
   "metadata": {},
   "outputs": [],
   "source": [
    "pos_LR = 'Right' # Right, Left\n",
    "\n",
    "# input\n",
    "root_path = f'/home/yuy/Project/Gait_proj/fast_eval_Parkinsons/Data/PDMotorDB/{pos_LR.lower()}hand_mp_kpts_preprocessed'\n",
    "filename_list = [ each for each in natsorted(os.listdir(root_path)) if '.csv' in each ]\n",
    "\n",
    "# output\n",
    "output_root_path = f'/home/yuy/Project/Gait_proj/fast_eval_Parkinsons/Data/PDMotorDB/{pos_LR.lower()}hand_mp_kpts_preprocessed_rotat'\n",
    "os.makedirs(output_root_path, exist_ok=True)\n",
    "\n",
    "df_list = []\n",
    "for filename in tqdm(filename_list):\n",
    "    csv_input_path = f'{root_path}/{filename}'\n",
    "    csv_output_path = f'{output_root_path}/{filename}'\n",
    "    data_input = pd.read_csv(csv_input_path)\n",
    "    data_output = hand_rotation(\n",
    "        data_input, \n",
    "        'xyz',\n",
    "        # [0, 90, 0], #left\n",
    "        [0, -90, 0], #Right\n",
    "        )\n",
    "    data_output.to_csv(csv_output_path, index=None)\n"
   ]
  },
  {
   "attachments": {},
   "cell_type": "markdown",
   "metadata": {},
   "source": [
    "# Predict and Compare"
   ]
  },
  {
   "cell_type": "markdown",
   "metadata": {},
   "source": [
    "## Hand position inference and compare to UPDRS 0/1 (normal/abnormal)"
   ]
  },
  {
   "cell_type": "markdown",
   "metadata": {},
   "source": [
    "### Right hand"
   ]
  },
  {
   "cell_type": "code",
   "execution_count": null,
   "metadata": {},
   "outputs": [],
   "source": [
    "severity_boundary = 1\n",
    "cfg_R, clean_results_R, clean_reuslts_woNA_R = hand_pos_inference(\n",
    "    test_data_path=\"/home/yuy/Project/Gait_proj/fast_eval_Parkinsons/Data/PDMotorDB/righthand_mp_kpts_preprocessed\",\n",
    "    test_map_path=f\"/home/yuy/Project/Gait_proj/fast_eval_Parkinsons/Data/PDMotorDB/righthand_clean_{severity_boundary}.csv\",\n",
    "    model_path=f\"./utils/saved_models/DrGuo_3d_rotat_val_pick/Right_FG_{severity_boundary}/best.pth\",\n",
    "    args_path=f\"./utils/saved_models/DrGuo_3d_rotat_val_pick/Right_FG_{severity_boundary}/args.txt\",\n",
    "    #output_folder=\"/home/yuy/Project/Gait_proj/fast_eval_Parkinsons/Data/PDMotorDB/righthand_clean_1_eval\",\n",
    "    seed=42,\n",
    "    balance_dataset=True,\n",
    "    multiple_sampling_num=5,\n",
    "    random_rotat_3d=True,\n",
    "    gau_samp=False,\n",
    "    logging=True,\n",
    "    device='cpu'\n",
    ")"
   ]
  },
  {
   "cell_type": "code",
   "execution_count": null,
   "metadata": {},
   "outputs": [],
   "source": [
    "_ = measurements(\n",
    "    clean_reuslts_woNA_R['label'].values,\n",
    "    clean_reuslts_woNA_R['predict'].values,\n",
    "    with_auc=False, printout=cfg_R['logging']\n",
    ")"
   ]
  },
  {
   "cell_type": "markdown",
   "metadata": {},
   "source": [
    "### Left hand"
   ]
  },
  {
   "cell_type": "code",
   "execution_count": null,
   "metadata": {},
   "outputs": [],
   "source": [
    "severity_boundary = 1\n",
    "cfg_L, clean_results_L, clean_reuslts_woNA_L = hand_pos_inference(\n",
    "    test_data_path=\"/home/yuy/Project/Gait_proj/fast_eval_Parkinsons/Data/PDMotorDB/lefthand_mp_kpts_preprocessed\",\n",
    "    test_map_path=\"/home/yuy/Project/Gait_proj/fast_eval_Parkinsons/Data/PDMotorDB/lefthand_clean_1.csv\",\n",
    "    model_path=f\"./utils/saved_models/DrGuo_3d_rotat_val_pick/Left_FG_{severity_boundary}/best.pth\",\n",
    "    args_path=f\"./utils/saved_models/DrGuo_3d_rotat_val_pick/Left_FG_{severity_boundary}/args.txt\",\n",
    "    #output_folder=\"/home/yuy/Project/Gait_proj/fast_eval_Parkinsons/Data/PDMotorDB/lefthand_clean_1_eval\",\n",
    "    seed=42,\n",
    "    balance_dataset=True,\n",
    "    multiple_sampling_num=5,\n",
    "    random_rotat_3d=True,\n",
    "    gau_samp=False,\n",
    "    logging=True,\n",
    "    device='cpu'\n",
    ")\n"
   ]
  },
  {
   "cell_type": "code",
   "execution_count": null,
   "metadata": {},
   "outputs": [],
   "source": [
    "_ = measurements(\n",
    "    clean_reuslts_woNA_L['label'].values,\n",
    "    clean_reuslts_woNA_L['predict'].values,\n",
    "    with_auc=False, printout=cfg_L['logging']\n",
    ")"
   ]
  },
  {
   "cell_type": "markdown",
   "metadata": {},
   "source": [
    "## Severity "
   ]
  },
  {
   "cell_type": "markdown",
   "metadata": {},
   "source": [
    "### Right"
   ]
  },
  {
   "cell_type": "code",
   "execution_count": null,
   "metadata": {},
   "outputs": [],
   "source": [
    "df_R = model_pred_severity(\n",
    "    test_data_path=\"/home/yuy/Project/Gait_proj/fast_eval_Parkinsons/Data/PDMotorDB/righthand_mp_kpts_preprocessed\",\n",
    "    test_map_path=\"/home/yuy/Project/Gait_proj/fast_eval_Parkinsons/Data/PDMotorDB/righthand_clean.csv\",\n",
    "    hand=\"Right\",\n",
    "    random_rotat_3d=True,\n",
    "    seed=42\n",
    ")"
   ]
  },
  {
   "cell_type": "code",
   "execution_count": null,
   "metadata": {},
   "outputs": [],
   "source": [
    "df_R.head()"
   ]
  },
  {
   "cell_type": "code",
   "execution_count": null,
   "metadata": {},
   "outputs": [],
   "source": [
    "df_R.to_csv('/home/yuy/Project/Gait_proj/fast_eval_Parkinsons/Data/PDMotorDB/results_seed42/right_PDMotorDB_pred_3d_valpick_enhanced_feat.csv', index=None)"
   ]
  },
  {
   "cell_type": "markdown",
   "metadata": {},
   "source": [
    "### Left "
   ]
  },
  {
   "cell_type": "code",
   "execution_count": null,
   "metadata": {},
   "outputs": [],
   "source": [
    "df_L = model_pred_severity(\n",
    "    test_data_path=\"/home/yuy/Project/Gait_proj/fast_eval_Parkinsons/Data/PDMotorDB/lefthand_mp_kpts_preprocessed\",\n",
    "    test_map_path=\"/home/yuy/Project/Gait_proj/fast_eval_Parkinsons/Data/PDMotorDB/lefthand_clean.csv\",\n",
    "    hand=\"Left\",\n",
    "    random_rotat_3d=True,\n",
    "    seed=42\n",
    ")"
   ]
  },
  {
   "cell_type": "code",
   "execution_count": null,
   "metadata": {},
   "outputs": [],
   "source": [
    "df_L.head()"
   ]
  },
  {
   "cell_type": "code",
   "execution_count": null,
   "metadata": {},
   "outputs": [],
   "source": [
    "df_L.to_csv('/home/yuy/Project/Gait_proj/fast_eval_Parkinsons/Data/PDMotorDB/results_seed42/left_PDMotorDB_pred_3d_valpick_enhanced_feat.csv', index=None)"
   ]
  },
  {
   "attachments": {},
   "cell_type": "markdown",
   "metadata": {},
   "source": [
    "# Others: Traditional Hand keypoints (amplitude, frequency)"
   ]
  },
  {
   "attachments": {},
   "cell_type": "markdown",
   "metadata": {},
   "source": [
    "## Transform and Calculate"
   ]
  },
  {
   "cell_type": "code",
   "execution_count": null,
   "metadata": {},
   "outputs": [],
   "source": [
    "pos_LR = 'Right' # Right, Left\n",
    "\n",
    "# input\n",
    "root_path = f'/home/yuy/Project/Gait_proj/fast_eval_Parkinsonism/Data/PDMotorDB/{pos_LR.lower()}hand_mp_kpts_preprocessed'\n",
    "filename_list = [ each for each in natsorted(os.listdir(root_path)) if '.csv' in each ]\n",
    "\n",
    "# output\n",
    "output_root_path = f'/home/yuy/Project/Gait_proj/fast_eval_Parkinsonism/Data/PDMotorDB/{pos_LR.lower()}hand_parameters_results'\n",
    "os.makedirs(output_root_path, exist_ok=True)\n",
    "\n",
    "for filename in tqdm(filename_list):\n",
    "    results = {}\n",
    "    csv_input_path = f'{root_path}/{filename}'\n",
    "    json_output_path = f'{output_root_path}/{filename.replace(\".csv\", \".json\")}'\n",
    "    data_input = pd.read_csv(csv_input_path)\n",
    "    results = hand_parameters(data_input=data_input)\n",
    "    #print(json_output_path)\n",
    "    with open(json_output_path, \"w\") as ff:\n",
    "        json.dump(results, ff, indent=2)"
   ]
  },
  {
   "cell_type": "code",
   "execution_count": null,
   "metadata": {},
   "outputs": [],
   "source": [
    "pos_LR = 'Left' # Right, Left\n",
    "\n",
    "# input\n",
    "root_path = f'/home/yuy/Project/Gait_proj/fast_eval_Parkinsons/Data/PDMotorDB/{pos_LR.lower()}hand_parameters_results'\n",
    "filename_list = [ each for each in natsorted(os.listdir(root_path)) if '.json' in each ]\n",
    "\n",
    "# output\n",
    "output_path = f'/home/yuy/Project/Gait_proj/fast_eval_Parkinsons/Data/PDMotorDB/{pos_LR.lower()}hand_parameters_results.csv'\n",
    "df_list = []\n",
    "for filename in tqdm(filename_list):\n",
    "    json_input_path = f'{root_path}/{filename}'\n",
    "    with open(json_input_path, \"r\") as ff:\n",
    "        results = json.load(ff)\n",
    "    df_list.append([\n",
    "        filename, \n",
    "        results['freq-mean'], results['freq-std'], results['freq-median'], \n",
    "        results['intensity-mean'], results['intensity-std'], results['intensity-median'],\n",
    "        results['peaks-mean'], results['peaks-std'], results['peaks-median'], \n",
    "        results['inte-freq-mean'], results['inte-freq-std'], results['inte-freq-median']])\n",
    "df = pd.DataFrame(df_list, \n",
    "    columns=[\"filename\", \n",
    "    \"freq-mean\", \"freq-std\", \"freq-median\", \n",
    "    \"intensity-mean\", \"intensity-std\", \"intensity-median\",\n",
    "    \"peaks-mean\", \"peaks-std\", \"peaks-median\", \n",
    "    \"inte-freq-mean\", \"inte-freq-std\", \"inte-freq-median\"]\n",
    ")\n",
    "df.to_csv(output_path, index=None)\n"
   ]
  },
  {
   "attachments": {},
   "cell_type": "markdown",
   "metadata": {},
   "source": [
    "## Read example"
   ]
  },
  {
   "cell_type": "code",
   "execution_count": null,
   "metadata": {},
   "outputs": [],
   "source": [
    "pos_LR = \"Left\"\n",
    "# input\n",
    "root_path = f'/home/yuy/Project/Gait_proj/fast_eval_Parkinsonism/Data/PDMotorDB/{pos_LR.lower()}hand_parameters_results'\n",
    "filename_list = [ each for each in natsorted(os.listdir(root_path)) if '.json' in each ]\n",
    "\n",
    "json_input_path = f\"{root_path}/{filename_list[0]}\"\n",
    "with open(json_input_path, 'r') as ff:\n",
    "    results = json.load(ff)\n",
    "\n",
    "d, f = np.array(results[\"distance-thumb-ratio\"]), np.array(results[\"frequency-interval\"])\n",
    "t, max_freq, max_intensity = np.array(results[\"stft\"][\"time\"]), np.array(results[\"stft\"][\"freq\"]), np.array(results[\"stft\"][\"intensity\"])"
   ]
  },
  {
   "attachments": {},
   "cell_type": "markdown",
   "metadata": {},
   "source": [
    "## Plot"
   ]
  },
  {
   "cell_type": "code",
   "execution_count": null,
   "metadata": {},
   "outputs": [],
   "source": [
    "stft_plot(d)"
   ]
  },
  {
   "cell_type": "code",
   "execution_count": null,
   "metadata": {},
   "outputs": [],
   "source": [
    "mergePlot_PeakInteRaw(\n",
    "    t, d, max_freq=max_freq, max_intensity=max_intensity,\n",
    "    inte_ylim_max=0.5\n",
    ")"
   ]
  },
  {
   "attachments": {},
   "cell_type": "markdown",
   "metadata": {},
   "source": [
    "# Others: Plot the 3D keypoint from dataset"
   ]
  },
  {
   "cell_type": "code",
   "execution_count": null,
   "metadata": {},
   "outputs": [],
   "source": [
    "from utils.seed import set_seed\n",
    "from utils.util import parse_args_keypoint\n",
    "from utils.hand.dataset import PDHandData\n",
    "import json, pandas as pd\n",
    "\n",
    "###\n",
    "severity_boundary=1\n",
    "handness = 'right'\n",
    "###\n",
    "\n",
    "test_data_path=f\"/home/yuy/Project/Gait_proj/fast_eval_Parkinsons/Data/PDMotorDB/{handness}hand_mp_kpts_preprocessed\"\n",
    "test_map_path=f\"/home/yuy/Project/Gait_proj/fast_eval_Parkinsons/Data/PDMotorDB/{handness}hand_clean_1.csv\"\n",
    "model_path=f\"./utils/saved_models/DrGuo_3d_rotat_val_pick/{handness.capitalize()}_FG_{severity_boundary}/best.pth\"\n",
    "args_path=f\"./utils/saved_models/DrGuo_3d_rotat_val_pick/{handness.capitalize()}_FG_{severity_boundary}/args.txt\"\n",
    "seed=42\n",
    "balance_dataset=True\n",
    "multiple_sampling_num=5\n",
    "random_rotat_3d=True\n",
    "gau_samp=False\n",
    "logging=True\n",
    "device='cpu'\n",
    "\n",
    "set_seed(seed) # set seed\n",
    "\n",
    "# load previous (training setting)\n",
    "with open(args_path, 'r') as ff:\n",
    "    cfg = json.load(ff)\n",
    "\n",
    "# setting\n",
    "cfg['test_data_path'] = test_data_path\n",
    "cfg['test_map_path'] = test_map_path\n",
    "cfg['model_path'] = model_path\n",
    "cfg['args_path'] = args_path\n",
    "cfg['output_folder'] = None\n",
    "cfg['device'] = device\n",
    "cfg['seed'] = seed\n",
    "cfg['balance_dataset'] = balance_dataset\n",
    "cfg['multiple_sampling_type'] = 'random-crop' # no other choice\n",
    "cfg['multiple_sampling_num'] = multiple_sampling_num\n",
    "cfg['random_rotat_3d'] = random_rotat_3d\n",
    "cfg['gau_samp'] = gau_samp\n",
    "cfg['logging'] = logging\n",
    "## it is no need to balance dataset when prediction only\n",
    "cfg['balance_dataset_method'] = 'None' if (cfg['balance_dataset'] == False) else 'random-crop'\n",
    "\n",
    "\n",
    "# read and preprocessing data map\n",
    "test_data_df_raw = pd.read_csv(test_map_path, header=None) # read\n",
    "test_data_df = test_data_df_raw[~test_data_df_raw[0].str.contains(\"empty\")] # filter out empty\n",
    "if not cfg['low_confid_accept']: test_data_df = test_data_df[~test_data_df[0].str.contains(\"lowconfid\")] # filter out low confidence data\n",
    "test_data_df.reset_index(inplace=True, drop=True) # reset index\n",
    "\n",
    "\n",
    "# enhanced features & keypoint selection\n",
    "# (Priority: enhanced features > keypoint selection)\n",
    "if cfg['enhanced_feat']:\n",
    "    enhanced_type = cfg['category'].split(\"_\")[-1]\n",
    "    all_channels, channels_num = parse_args_keypoint(cfg['keypoint'])\n",
    "    all_channels = all_channels + [f\"enhanced_feat\"]\n",
    "    channels_num = len(all_channels)\n",
    "else: \n",
    "    enhanced_type = 0\n",
    "    all_channels, channels_num = parse_args_keypoint(cfg['keypoint'])\n",
    "\n",
    "cfg['enhanced_type'] = enhanced_type\n",
    "cfg['channels_num'] = channels_num\n",
    "\n",
    "# classification class\n",
    "class_map = {each_class: i for i, each_class in enumerate(sorted(test_data_df[1].unique()))}\n",
    "class_num = len(class_map.keys())\n",
    "\n",
    "# Check Acceptability domain: error_frame_ratio\n",
    "if cfg['logging']: print(\"\\nChecking the error frame ratio...\")\n",
    "origin_files_num = len(test_data_df)\n",
    "test_data_mask = test_data_df[2]<=cfg['error_frame_thres'] # set: error frame ratio <= threshold\n",
    "file_remained_ratio = sum(test_data_mask)/origin_files_num\n",
    "test_data_df = test_data_df[test_data_mask] \n",
    "if cfg['logging']: print(f\"Files remains: {len(test_data_df)}/{origin_files_num} ({file_remained_ratio:.3f})\")\n",
    "\n",
    "# dataset proccessing\n",
    "test_dataset = PDHandData(filename_label_df=test_data_df,\n",
    "                                input_channels=all_channels,\n",
    "                                data_root=test_data_path,\n",
    "                                seed=cfg['seed'],\n",
    "                                mk_balanced_dataset=cfg['balance_dataset'],\n",
    "                                mk_balanced_type=cfg['balance_dataset_method'],\n",
    "                                multi_sample_type=cfg['multiple_sampling_type'],\n",
    "                                multi_sample_num=cfg['multiple_sampling_num'],\n",
    "                                enhanced_type=cfg['enhanced_type'],\n",
    "                                random_rotat_3d=cfg['random_rotat_3d'],\n",
    "                                group_map=class_map,\n",
    "                                gaussian_sampling=cfg['gau_samp'],\n",
    "                                crop_len=cfg['crop_len'],\n",
    "                                return_name=True)"
   ]
  },
  {
   "cell_type": "code",
   "execution_count": null,
   "metadata": {},
   "outputs": [],
   "source": [
    "data_test = test_dataset.__getitem__(1)[0]\n",
    "print(np.shape(data_test))\n",
    "data_test = pd.DataFrame(data_test.T, columns=test_dataset.input_channels)"
   ]
  },
  {
   "cell_type": "code",
   "execution_count": null,
   "metadata": {},
   "outputs": [],
   "source": [
    "new_data = hand_rotation(\n",
    "    data_test, \n",
    "    rotat_axis='xyz', \n",
    "    rotat_angle=[0,90,0])"
   ]
  },
  {
   "cell_type": "code",
   "execution_count": null,
   "metadata": {},
   "outputs": [],
   "source": [
    "%matplotlib inline\n",
    "import numpy as np\n",
    "import matplotlib.pyplot as plt\n",
    "\n",
    "def data_(new=False, time_frame=0):\n",
    "    fig = plt.figure()\n",
    "    ax = plt.axes(projection='3d')\n",
    "    ax.set_xlim3d(-1.5, 1.5)\n",
    "    ax.set_ylim3d(-1.5, 1.5)\n",
    "    ax.set_zlim3d(-1.5, 1.5)\n",
    "    data = new_data.copy() if new else data_test.copy() \n",
    "    xdata = data.iloc[time_frame].filter(regex=\"x_\").values\n",
    "    ydata = data.iloc[time_frame].filter(regex=\"y_\").values\n",
    "    zdata = data.iloc[time_frame].filter(regex=\"z_\").values\n",
    "    ax.scatter3D(xdata, ydata, zdata,  c=range(len(xdata)))\n",
    "\n",
    "data_(new=False, time_frame=200)\n",
    "data_(new=True, time_frame=200)"
   ]
  },
  {
   "attachments": {},
   "cell_type": "markdown",
   "metadata": {},
   "source": [
    "# Comprehensive evaluation"
   ]
  },
  {
   "cell_type": "code",
   "execution_count": null,
   "metadata": {},
   "outputs": [],
   "source": [
    "hand_LR = \"Right\" # Left, Right\n",
    "csv_path = f\"/home/yuy/Project/Gait_proj/fast_eval_Parkinsonism/Data/PDMotorDB/Hand_PDMotorDB_pred_20221222_{hand_LR.lower()}.csv\"\n",
    "df = pd.read_csv(csv_path)\n",
    "df.head()"
   ]
  },
  {
   "cell_type": "code",
   "execution_count": null,
   "metadata": {},
   "outputs": [],
   "source": [
    "fig, ax = plt.subplots(1,1,figsize=[8,5],dpi=300)\n",
    "colors = [\"tab:green\", \"tab:blue\", \"tab:orange\", \"tab:red\"]\n",
    "for label, color_ in zip(range(4), colors):\n",
    "    # df_plot = df[df['label']==label]\n",
    "    df_plot = df[df['predict_overall_3d_rotat_val_pick_infer_3d_rotat']==label]\n",
    "    # df_plot = df[df['YYY']==label]\n",
    "    ax.scatter(df_plot['freq-mean'], df_plot['intensity-mean'], label=f\"UPDRS={label}\", color=color_)\n",
    "\n",
    "ax.legend()\n",
    "ax.set_ylabel(\"Mean Intensity after STFT (A.U.)\")\n",
    "ax.set_xlabel(\"Mean Freqeuncy after STFT (Hz)\")\n",
    "ax.set_xlim([0.5,6])\n",
    "ax.set_ylim([-0.001,0.27])\n",
    "#ax.set_ylim([-0.001,0.31])\n",
    "fig.show()\n",
    "\n"
   ]
  },
  {
   "cell_type": "code",
   "execution_count": null,
   "metadata": {},
   "outputs": [],
   "source": [
    "df.columns"
   ]
  },
  {
   "cell_type": "code",
   "execution_count": null,
   "metadata": {},
   "outputs": [],
   "source": [
    "def quick_compare(xlabel=\"peaks-mean\"):\n",
    "    fig, axes = plt.subplots(2,2, figsize=[16,9], dpi=300)\n",
    "    axes = axes.flatten()\n",
    "    df_plot = df[(df['error_frame_ratio'] <= 0.5) & (df['label'] != 4)]\n",
    "\n",
    "    sns.kdeplot(df_plot, x=xlabel, hue='label', fill=True, ax=axes[0], legend=False)\n",
    "    axes[0].legend([f\"UPDRS {3-i}\" for i in range(4)])\n",
    "    axes[0].set_title(\"Evaulated by orignial dataset\")\n",
    "\n",
    "    sns.ecdfplot(df_plot, x=xlabel, hue='label', ax=axes[1])\n",
    "    axes[1].legend([f\"UPDRS {3-i}\" for i in range(4)])\n",
    "    axes[1].set_title(\"Evaulated by orignial dataset\")\n",
    "\n",
    "    sns.kdeplot(df_plot, x=xlabel, hue='predict_overall_3d_rotat_val_pick_infer_3d_rotat', fill=True, ax=axes[2])\n",
    "    axes[2].legend([f\"UPDRS {3-i}\" for i in range(4)])\n",
    "    axes[2].set_title(\"Evaulated by DL model\")\n",
    "\n",
    "    sns.ecdfplot(df_plot, x=xlabel, hue='predict_overall_3d_rotat_val_pick_infer_3d_rotat', ax=axes[3])\n",
    "    axes[3].legend([f\"UPDRS {3-i}\" for i in range(4)])\n",
    "    axes[3].set_title(\"Evaulated by DL model\")\n",
    "\n",
    "    fig.tight_layout()\n",
    "    fig.show()\n",
    "    return None"
   ]
  },
  {
   "cell_type": "code",
   "execution_count": null,
   "metadata": {},
   "outputs": [],
   "source": [
    "quick_compare(xlabel=\"peaks-mean\")"
   ]
  },
  {
   "cell_type": "code",
   "execution_count": null,
   "metadata": {},
   "outputs": [],
   "source": [
    "quick_compare(xlabel=\"intensity-mean\")"
   ]
  },
  {
   "cell_type": "code",
   "execution_count": null,
   "metadata": {},
   "outputs": [],
   "source": [
    "quick_compare(xlabel=\"freq-mean\")"
   ]
  },
  {
   "cell_type": "code",
   "execution_count": null,
   "metadata": {},
   "outputs": [],
   "source": [
    "quick_compare(xlabel=\"inte-freq-mean\")"
   ]
  }
 ],
 "metadata": {
  "kernelspec": {
   "display_name": "mediapipe",
   "language": "python",
   "name": "python3"
  },
  "language_info": {
   "codemirror_mode": {
    "name": "ipython",
    "version": 3
   },
   "file_extension": ".py",
   "mimetype": "text/x-python",
   "name": "python",
   "nbconvert_exporter": "python",
   "pygments_lexer": "ipython3",
   "version": "3.8.13 (default, Oct 21 2022, 23:50:54) \n[GCC 11.2.0]"
  },
  "orig_nbformat": 4,
  "vscode": {
   "interpreter": {
    "hash": "ea781e003c60cdfda5e7cb1cb09b88358060931e36de94d4bcba541e08c30dfa"
   }
  }
 },
 "nbformat": 4,
 "nbformat_minor": 2
}
